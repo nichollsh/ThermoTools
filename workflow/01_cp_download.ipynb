{
 "cells": [
  {
   "cell_type": "markdown",
   "metadata": {},
   "source": [
    "# Download heat capacity data from JANAF"
   ]
  },
  {
   "cell_type": "code",
   "execution_count": 1,
   "metadata": {},
   "outputs": [],
   "source": [
    "import requests\n",
    "import os\n",
    "from thermotools import get_inpdir, get_gendir, empty_dir\n",
    "\n",
    "outdir = os.path.join(get_gendir(), \"cp\", \"web\")\n",
    "empty_dir(outdir)"
   ]
  },
  {
   "cell_type": "code",
   "execution_count": 2,
   "metadata": {},
   "outputs": [],
   "source": [
    "def download_txt(url:str):\n",
    "    '''\n",
    "    This function downloads a text file from a URL over HTTP.\n",
    "    '''\n",
    "\n",
    "    # try to get file\n",
    "    response = requests.get(url)\n",
    "    if response.status_code == 200:\n",
    "        # exists\n",
    "        content = response.text\n",
    "    else:\n",
    "        # doesn't exist\n",
    "        return\n",
    "\n",
    "    # get molecule name\n",
    "    lines = content.split(\"\\n\")\n",
    "    molec = lines[0].split(\"\\t\")[-1]\n",
    "\n",
    "    # skip ions/condensates\n",
    "    for c in [\"+\",\"-\",\"(l\",\"(c\",\"(f\"]:\n",
    "        if c in molec:\n",
    "            return\n",
    "\n",
    "    # get gas formula\n",
    "    gas = molec.split(\"(\")[0]\n",
    "\n",
    "    # save data\n",
    "    with open(os.path.join(outdir,\"%s.txt\"%gas),'w') as hdl:\n",
    "        hdl.write(\"URL: %s \\n\"%url)\n",
    "        hdl.write(content)\n"
   ]
  },
  {
   "cell_type": "markdown",
   "metadata": {},
   "source": [
    "Now, we loop over elements and download all possible species. This can take a while."
   ]
  },
  {
   "cell_type": "code",
   "execution_count": 3,
   "metadata": {},
   "outputs": [],
   "source": [
    "target_elems = {'H','C','N','O','P','S','Fe','Mg','Si','Ca'}"
   ]
  },
  {
   "cell_type": "code",
   "execution_count": 4,
   "metadata": {},
   "outputs": [
    {
     "name": "stdout",
     "output_type": "stream",
     "text": [
      "Element | Progress [%]\n",
      "  Mg    | 0 5 10 15 20 25 30 35 40 45 50 55 60 65 70 75 80 85 90 95 100 \n",
      "  Fe    | 0 5 10 15 20 25 30 35 40 45 50 55 60 65 70 75 80 85 90 95 100 \n",
      "   S    | 0 5 10 15 20 25 30 35 40 45 50 55 60 65 70 75 80 85 90 95 100 \n",
      "   O    | 0 5 10 15 20 25 30 35 40 45 50 55 60 65 70 75 80 85 90 95 100 \n",
      "  Si    | 0 5 10 15 20 25 30 35 40 45 50 55 60 65 70 75 80 85 90 95 100 \n",
      "   H    | 0 5 10 15 20 25 30 35 40 45 50 55 60 65 70 75 80 85 90 95 100 \n",
      "   P    | 0 5 10 15 20 25 30 35 40 45 50 55 60 65 70 75 80 85 90 95 100 \n",
      "   C    | 0 5 10 15 20 25 30 35 40 45 50 55 60 65 70 75 80 85 90 95 100 \n",
      "   N    | 0 5 10 15 20 25 30 35 40 45 50 55 60 65 70 75 80 85 90 95 100 \n",
      "  Ca    | 0 5 10 15 20 25 30 35 40 45 50 55 60 65 70 75 80 85 90 95 100 \n",
      "Done\n"
     ]
    }
   ],
   "source": [
    "print(\"Element | Progress [%]\")\n",
    "for e in target_elems:\n",
    "    print(\"  %2s    | \"%e, end=\"\", flush=True)\n",
    "\n",
    "    # maximum ID to try\n",
    "    imax = 250\n",
    "\n",
    "    # Counters\n",
    "    pct = 0\n",
    "    pct_lst = -1\n",
    "\n",
    "    # Iterate over all IDs\n",
    "    for i in range(imax):\n",
    "        # print progress\n",
    "        pct = int((i+1)/imax*100)\n",
    "        if (pct%5==0) and (pct != pct_lst):\n",
    "            pct_lst = pct\n",
    "            print(\"%-d \"%pct, end=\"\", flush=True)\n",
    "\n",
    "        # try to download file\n",
    "        url = \"https://janaf.nist.gov/tables/%s-%03d.txt\"%(e,i)\n",
    "        download_txt(url)\n",
    "\n",
    "    print(\"\")\n",
    "print(\"Done\")"
   ]
  }
 ],
 "metadata": {
  "kernelspec": {
   "display_name": "py313",
   "language": "python",
   "name": "python3"
  },
  "language_info": {
   "codemirror_mode": {
    "name": "ipython",
    "version": 3
   },
   "file_extension": ".py",
   "mimetype": "text/x-python",
   "name": "python",
   "nbconvert_exporter": "python",
   "pygments_lexer": "ipython3",
   "version": "3.13.0"
  }
 },
 "nbformat": 4,
 "nbformat_minor": 2
}
