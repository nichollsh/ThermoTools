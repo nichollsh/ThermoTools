{
 "cells": [
  {
   "cell_type": "markdown",
   "metadata": {},
   "source": [
    "# Parse heat capacity data"
   ]
  },
  {
   "cell_type": "code",
   "execution_count": 10,
   "metadata": {},
   "outputs": [],
   "source": [
    "import glob, os\n",
    "import numpy as np\n",
    "from scipy.interpolate import PchipInterpolator\n",
    "\n",
    "from thermotools.plot import *\n",
    "from thermotools import get_inpdir, get_gendir, empty_dir\n",
    "\n",
    "tmin = 0.5\n",
    "tmax = 4000.0\n",
    "dt   = 0.1\n",
    "\n",
    "empty_dir(os.path.join(get_gendir(), \"cp\", \"dat\"))\n",
    "empty_dir(os.path.join(get_gendir(), \"cp\", \"plt\"))"
   ]
  },
  {
   "cell_type": "code",
   "execution_count": 11,
   "metadata": {},
   "outputs": [],
   "source": [
    "def convert_name(name:str):\n",
    "    # drop number from single-atoms in molecule\n",
    "    gas = name[0]+\"\"\n",
    "    for i in range(1,len(name)):\n",
    "        if (name[i] == \"1\") and (name[i-1].isalpha()):\n",
    "            continue\n",
    "        gas += name[i]\n",
    "    return gas"
   ]
  },
  {
   "cell_type": "code",
   "execution_count": 12,
   "metadata": {},
   "outputs": [],
   "source": [
    "def plot_gas(fpath:str):\n",
    "    gas = fpath.split(\"/\")[-1].split(\".\")[0]\n",
    "    data = np.loadtxt(fpath, delimiter=',').T\n",
    "    t = data[0]\n",
    "    c = data[1]\n",
    "\n",
    "    fig,ax = plt.subplots(1,1, figsize=(5,4))\n",
    "    ax.plot(t,c, c='k')\n",
    "    ax.set(xlabel=\"T [K]\", ylabel=r\"C$_{\\text{p}}$ [J mol$^{-1}$ K$^{-1}$]\")\n",
    "\n",
    "    pltdir = os.path.join(get_gendir(), \"cp\", \"plt\")\n",
    "    fig.savefig(pltdir+\"/%s.png\"%gas, bbox_inches='tight', dpi=170)\n",
    "    plt.close(\"all\")"
   ]
  },
  {
   "cell_type": "code",
   "execution_count": 13,
   "metadata": {},
   "outputs": [],
   "source": [
    "def convert_txt(inpath:str):\n",
    "    # get gas name\n",
    "    gas = inpath.split(\"/\")[-1].split(\".\")[0]\n",
    "    gas = convert_name(gas)\n",
    "\n",
    "    # load data from txt\n",
    "    with open(inpath,'r') as hdl:\n",
    "        lines = hdl.readlines()\n",
    "\n",
    "    t_data = []\n",
    "    c_data = []\n",
    "    for i,line in enumerate(lines[3:]):\n",
    "        # read t,c from row\n",
    "        t = str(line.split(\"\\t\")[0]).strip()\n",
    "        c = str(line.split(\"\\t\")[1]).strip()\n",
    "\n",
    "        # try to convert to number\n",
    "        # (sometimes the values are empty)\n",
    "        try:\n",
    "            t = float(t)\n",
    "            c = float(c)\n",
    "        except:\n",
    "            continue\n",
    "\n",
    "        # if values are okay, store them\n",
    "        t_data.append(t)\n",
    "        c_data.append(c)\n",
    "\n",
    "    # interpolate data\n",
    "    itp = PchipInterpolator(t_data, c_data)\n",
    "\n",
    "    # save interpolated values\n",
    "    t_out = np.arange(tmin, tmax, dt)\n",
    "    c_out = itp(t_out)\n",
    "    out = np.array([t_out,c_out]).T\n",
    "\n",
    "    # save data to csv\n",
    "    save_header = \"T [K] , Cp [J mol-1 K-1]\"\n",
    "    outpath = os.path.join(get_gendir(), \"cp\", \"dat\")+\"/%s.csv\"%gas\n",
    "    np.savetxt(outpath, out, header=save_header, delimiter=',', fmt=\"%.9e\")\n",
    "    return outpath"
   ]
  },
  {
   "cell_type": "code",
   "execution_count": 14,
   "metadata": {},
   "outputs": [
    {
     "name": "stdout",
     "output_type": "stream",
     "text": [
      "Progress (%): 0 10 20 30 40 50 60 70 80 90 100 \n",
      "Done\n"
     ]
    }
   ],
   "source": [
    "files = glob.glob(os.path.join(get_gendir(), \"cp\", \"web\")+\"/*.txt\")\n",
    "\n",
    "nfiles = len(files)\n",
    "pct_lst = -1\n",
    "print(\"Progress (%): \", end=\"\", flush=True)\n",
    "for i,f in enumerate(files):\n",
    "    # progress\n",
    "    pct = int((i+1)/nfiles*100)\n",
    "    if (pct%10 == 0) and (pct != pct_lst):\n",
    "        pct_lst = pct\n",
    "        print(\"%d \"%pct, end=\"\", flush=True)\n",
    "\n",
    "    # convert\n",
    "    o = convert_txt(f)\n",
    "\n",
    "    # plot\n",
    "    plot_gas(o)\n",
    "\n",
    "print(\"\")\n",
    "print(\"Done\")"
   ]
  }
 ],
 "metadata": {
  "kernelspec": {
   "display_name": "py313",
   "language": "python",
   "name": "python3"
  },
  "language_info": {
   "codemirror_mode": {
    "name": "ipython",
    "version": 3
   },
   "file_extension": ".py",
   "mimetype": "text/x-python",
   "name": "python",
   "nbconvert_exporter": "python",
   "pygments_lexer": "ipython3",
   "version": "3.13.1"
  }
 },
 "nbformat": 4,
 "nbformat_minor": 2
}
