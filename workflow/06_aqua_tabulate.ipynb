{
 "cells": [
  {
   "cell_type": "markdown",
   "metadata": {},
   "source": [
    "# Download and tabulate AQUA equation of state"
   ]
  },
  {
   "cell_type": "markdown",
   "metadata": {},
   "source": [
    "Originally available here: https://github.com/mnijh/AQUA"
   ]
  },
  {
   "cell_type": "code",
   "execution_count": 17,
   "metadata": {},
   "outputs": [],
   "source": [
    "import requests\n",
    "import os\n",
    "import numpy as np\n",
    "import zipfile\n",
    "from thermotools import get_inpdir, get_gendir, empty_dir"
   ]
  },
  {
   "cell_type": "code",
   "execution_count": 4,
   "metadata": {},
   "outputs": [],
   "source": [
    "outdir = os.path.join(get_gendir(), \"aqua\", \"web\")\n",
    "empty_dir(outdir)"
   ]
  },
  {
   "cell_type": "code",
   "execution_count": 13,
   "metadata": {},
   "outputs": [],
   "source": [
    "# https://stackoverflow.com/a/53101953\n",
    "def download(url, fpath):\n",
    "    print(\"Download file from \"+url)\n",
    "    r = requests.get(url, stream=True)\n",
    "    with open(fpath, 'wb') as f:\n",
    "        for chunk in r.iter_content(chunk_size=1024): \n",
    "            if chunk: # filter out keep-alive new chunks\n",
    "                f.write(chunk)\n",
    "    print(\"    Done\")\n",
    "\n",
    "def unzip(fpath, dpath):\n",
    "    print(\"Unzipping \"+fpath)\n",
    "    with zipfile.ZipFile(fpath,\"r\") as hdl:\n",
    "        hdl.extractall(dpath)\n",
    "    print(\"    Done\")"
   ]
  },
  {
   "cell_type": "markdown",
   "metadata": {},
   "source": [
    "First, we will download the data and unzip it"
   ]
  },
  {
   "cell_type": "code",
   "execution_count": null,
   "metadata": {},
   "outputs": [
    {
     "name": "stdout",
     "output_type": "stream",
     "text": [
      "Download file from https://osf.io/download/uqrdx/\n",
      "    Done\n",
      "Unzipping /Users/nichollsh/Projects/Thermo/generated/aqua/web/aqua_rho_vs_pt.zip\n",
      "    Done\n"
     ]
    }
   ],
   "source": [
    "url      = \"https://osf.io/download/uqrdx/\"\n",
    "zip_file = os.path.join(outdir, \"aqua_rho_vs_pt.zip\")\n",
    "\n",
    "download(url, zip_file)\n",
    "unzip(zip_file, outdir)"
   ]
  },
  {
   "cell_type": "markdown",
   "metadata": {},
   "source": [
    "Read the data into memory"
   ]
  },
  {
   "cell_type": "code",
   "execution_count": 16,
   "metadata": {},
   "outputs": [
    {
     "ename": "NameError",
     "evalue": "name 'np' is not defined",
     "output_type": "error",
     "traceback": [
      "\u001b[0;31m---------------------------------------------------------------------------\u001b[0m",
      "\u001b[0;31mNameError\u001b[0m                                 Traceback (most recent call last)",
      "Cell \u001b[0;32mIn[16], line 2\u001b[0m\n\u001b[1;32m      1\u001b[0m raw_file \u001b[38;5;241m=\u001b[39m os\u001b[38;5;241m.\u001b[39mpath\u001b[38;5;241m.\u001b[39mjoin(outdir, \u001b[38;5;124m\"\u001b[39m\u001b[38;5;124maqua_eos_pt_v1_0.dat\u001b[39m\u001b[38;5;124m\"\u001b[39m)\n\u001b[0;32m----> 2\u001b[0m data \u001b[38;5;241m=\u001b[39m np\u001b[38;5;241m.\u001b[39mloadtxt(raw_file)\n",
      "\u001b[0;31mNameError\u001b[0m: name 'np' is not defined"
     ]
    }
   ],
   "source": [
    "raw_file = os.path.join(outdir, \"aqua_eos_pt_v1_0.dat\")\n",
    "data = np.loadtxt(raw_file)"
   ]
  }
 ],
 "metadata": {
  "kernelspec": {
   "display_name": "py313",
   "language": "python",
   "name": "python3"
  },
  "language_info": {
   "codemirror_mode": {
    "name": "ipython",
    "version": 3
   },
   "file_extension": ".py",
   "mimetype": "text/x-python",
   "name": "python",
   "nbconvert_exporter": "python",
   "pygments_lexer": "ipython3",
   "version": "3.13.1"
  }
 },
 "nbformat": 4,
 "nbformat_minor": 2
}
